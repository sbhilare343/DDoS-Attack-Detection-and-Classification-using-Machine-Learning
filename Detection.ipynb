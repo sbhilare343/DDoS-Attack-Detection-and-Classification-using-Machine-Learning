{
 "cells": [
  {
   "cell_type": "markdown",
   "id": "d61d7197-31e4-4936-9995-7d2897a21d74",
   "metadata": {
    "id": "d61d7197-31e4-4936-9995-7d2897a21d74"
   },
   "source": [
    "# Step 1: Load and preprocess data"
   ]
  },
  {
   "cell_type": "code",
   "execution_count": 20,
   "id": "a0b67ed0-426c-416e-bbda-90b0301700fb",
   "metadata": {
    "colab": {
     "base_uri": "https://localhost:8080/"
    },
    "id": "a0b67ed0-426c-416e-bbda-90b0301700fb",
    "outputId": "c8f81ae8-72b9-461d-a392-ec8eef5c3d2b"
   },
   "outputs": [
    {
     "name": "stdout",
     "output_type": "stream",
     "text": [
      "                  time  switch_id  gfe  g_usip      rfip  disp_pakt  \\\n",
      "0  2023-02-21 08:08:38          2    0       0  1.000000   2.683282   \n",
      "1  2023-02-21 06:31:50          3    0       0  1.000000  23.851974   \n",
      "2  2022-11-15 08:02:37         15    1       0  0.333333   0.000000   \n",
      "3  2022-11-15 07:24:03         15    0       0  0.500000  22.978251   \n",
      "4  2023-02-03 22:10:58          1  157     157  0.000000   0.000000   \n",
      "\n",
      "      disp_byte  mean_pkt  mean_byte  gsp     avg_durat  avg_flow_dst  \\\n",
      "0  2.629616e+02      3.00      294.0    0  3.960000e+17             6   \n",
      "1  1.104434e+06    420.75   912497.5    0  4.790000e+17             4   \n",
      "2  0.000000e+00      0.00        0.0    1  3.960000e+17             5   \n",
      "3  3.474311e+04     14.00    21168.0    0  6.690000e+17             4   \n",
      "4  0.000000e+00      0.00        0.0  157  4.720000e+17         28232   \n",
      "\n",
      "    rate_pkt_in  disp_interval  label  \n",
      "0    367.666667   1.620000e+17      0  \n",
      "1    191.333333   7.380000e+16      2  \n",
      "2  26758.200000   3.430000e+17      3  \n",
      "3  11780.400000   1.010000e+17      0  \n",
      "4   9652.333333   1.480000e+16      2  \n",
      "Index(['time', 'switch_id', 'gfe', 'g_usip', 'rfip', 'disp_pakt', 'disp_byte',\n",
      "       'mean_pkt', 'mean_byte', 'gsp', 'avg_durat', 'avg_flow_dst',\n",
      "       'rate_pkt_in', 'disp_interval', 'label'],\n",
      "      dtype='object')\n"
     ]
    }
   ],
   "source": [
    "import pandas as pd\n",
    "import numpy as np\n",
    "from sklearn.preprocessing import StandardScaler\n",
    "from sklearn.model_selection import train_test_split\n",
    "\n",
    "# Load dataset\n",
    "df = pd.read_csv('./cleaned_dataset/shuffled_data.csv')\n",
    "\n",
    "# Preview\n",
    "print(df.head())\n",
    "print(df.columns)\n",
    "\n",
    "# Convert timestamp to datetime object\n",
    "df['time'] = pd.to_datetime(df['time'])\n",
    "\n",
    "# Extract useful features from timestamp\n",
    "df['hour'] = df['time'].dt.hour\n",
    "df['minute'] = df['time'].dt.minute\n",
    "df['dayofweek'] = df['time'].dt.dayofweek\n",
    "\n",
    "# Now drop the original string column\n",
    "df.drop(columns=['time'], inplace=True)\n",
    "\n",
    "# Proceed to separate features and label\n",
    "X = df.drop(columns=['label'])\n",
    "y = df['label']\n",
    "\n",
    "# Normalize\n",
    "scaler = StandardScaler()\n",
    "X_scaled = scaler.fit_transform(X)\n",
    "\n",
    "# Split (optional for testing)\n",
    "X_train, X_test, y_train, y_test = train_test_split(X_scaled, y, test_size=0.2, shuffle=False)\n"
   ]
  },
  {
   "cell_type": "markdown",
   "id": "1295c27b-9d7a-438f-a2aa-d15b994f2b49",
   "metadata": {
    "id": "1295c27b-9d7a-438f-a2aa-d15b994f2b49"
   },
   "source": [
    "# Step 2: Define environment for RL"
   ]
  },
  {
   "cell_type": "code",
   "execution_count": 2,
   "id": "c72d18b6-19db-4397-9482-52b988d46aae",
   "metadata": {
    "colab": {
     "base_uri": "https://localhost:8080/"
    },
    "id": "c72d18b6-19db-4397-9482-52b988d46aae",
    "outputId": "20c077b4-95f1-4286-f3d7-692d25d7a1aa"
   },
   "outputs": [],
   "source": [
    "# ! pip install gym"
   ]
  },
  {
   "cell_type": "code",
   "execution_count": 21,
   "id": "21ed6aaf-05d6-4097-ad0e-388e8f73fb56",
   "metadata": {
    "id": "21ed6aaf-05d6-4097-ad0e-388e8f73fb56"
   },
   "outputs": [],
   "source": [
    "import gym\n",
    "from gym import spaces\n",
    "\n",
    "# Custom Gym environment\n",
    "class DDoSEnv(gym.Env):\n",
    "    def __init__(self, X, y):\n",
    "        super(DDoSEnv, self).__init__()\n",
    "        self.X = X\n",
    "        self.y = y\n",
    "        self.index = 0\n",
    "        self.max_steps = len(X)\n",
    "        self.action_space = spaces.Discrete(2)  # 0 = ignore, 1 = alert\n",
    "        self.observation_space = spaces.Box(low=-np.inf, high=np.inf, shape=(X.shape[1],), dtype=np.float32)\n",
    "\n",
    "    def reset(self):\n",
    "        self.index = 0\n",
    "        return self.X[self.index]\n",
    "\n",
    "    def step(self, action):\n",
    "        label = self.y[self.index]\n",
    "        done = self.index >= self.max_steps - 1\n",
    "        reward = 0\n",
    "        alarm = None\n",
    "\n",
    "        if action == 1 and label == 1:\n",
    "            reward = 1\n",
    "            alarm = True\n",
    "        elif action == 0 and label == 1:\n",
    "            reward = -1\n",
    "            alarm = False\n",
    "        elif action == 1 and label == 0:\n",
    "            reward = -0.5\n",
    "            alarm = False\n",
    "        else:\n",
    "            reward = 0.5\n",
    "            alarm = False\n",
    "\n",
    "        self.index += 1\n",
    "        obs = self.X[self.index] if not done else np.zeros_like(self.X[0])\n",
    "        return obs, reward, done, {'alarm': alarm, 'label': label, 'action': action}"
   ]
  },
  {
   "cell_type": "markdown",
   "id": "c5c76895-08b3-409b-99bc-f33dd3ec4d6c",
   "metadata": {
    "id": "c5c76895-08b3-409b-99bc-f33dd3ec4d6c"
   },
   "source": [
    "# Step 3: DQN Agent with PyTorch"
   ]
  },
  {
   "cell_type": "code",
   "execution_count": 4,
   "id": "d8a49c07-6588-486d-bc83-64dc48825c66",
   "metadata": {},
   "outputs": [],
   "source": [
    "# ! pip install pytorch torch"
   ]
  },
  {
   "cell_type": "code",
   "execution_count": 5,
   "id": "bb78de86-a7c2-4d42-8eb8-f08843dffffc",
   "metadata": {},
   "outputs": [],
   "source": [
    "# ! pip install torch"
   ]
  },
  {
   "cell_type": "code",
   "execution_count": 22,
   "id": "20ed784d-7bd5-49d5-afd6-befaaac38f6d",
   "metadata": {
    "id": "20ed784d-7bd5-49d5-afd6-befaaac38f6d"
   },
   "outputs": [],
   "source": [
    "import torch.nn as nn\n",
    "import torch.optim as optim\n",
    "import torch\n",
    "import random\n",
    "from collections import deque\n",
    "\n",
    "# Simple DQN Agent\n",
    "class DQNAgent(nn.Module):\n",
    "    def __init__(self, input_dim, output_dim):\n",
    "        super(DQNAgent, self).__init__()\n",
    "        self.fc = nn.Sequential(\n",
    "            nn.Linear(input_dim, 64),\n",
    "            nn.ReLU(),\n",
    "            nn.Linear(64, output_dim)\n",
    "        )\n",
    "\n",
    "    def forward(self, x):\n",
    "        return self.fc(x)"
   ]
  },
  {
   "cell_type": "markdown",
   "id": "64dbb68c-86f6-4e99-a338-e4aa38e33ab7",
   "metadata": {
    "id": "64dbb68c-86f6-4e99-a338-e4aa38e33ab7"
   },
   "source": [
    "# Step 4: Training loop"
   ]
  },
  {
   "cell_type": "code",
   "execution_count": 23,
   "id": "38c669b8-9c0a-47df-93eb-f73ac451b014",
   "metadata": {
    "colab": {
     "base_uri": "https://localhost:8080/"
    },
    "id": "38c669b8-9c0a-47df-93eb-f73ac451b014",
    "outputId": "a1834cbd-cd9b-4542-b339-2d8b1bc0a142"
   },
   "outputs": [
    {
     "name": "stdout",
     "output_type": "stream",
     "text": [
      "🚨 FINAL OUTPUT: DDoS Attack Detected (Correct detections: 60.98%)\n"
     ]
    }
   ],
   "source": [
    "import random\n",
    "from collections import deque\n",
    "\n",
    "import numpy as np\n",
    "import torch\n",
    "import torch.nn as nn\n",
    "import torch.optim as optim\n",
    "\n",
    "# Assuming DDoSEnv is defined elsewhere and X_train, y_train are loaded\n",
    "# For demonstration purposes, let's create dummy data if not available\n",
    "if 'X_train' not in locals():\n",
    "    X_train = np.random.rand(100, 10)\n",
    "    y_train = pd.Series(np.random.randint(0, 2, 100))\n",
    "\n",
    "# Set up environment and agent\n",
    "env = DDoSEnv(X_train, y_train.values)\n",
    "input_dim = X_train.shape[1]\n",
    "output_dim = env.action_space.n\n",
    "\n",
    "class DQNAgent(nn.Module):\n",
    "    def __init__(self, input_dim, output_dim):\n",
    "        super(DQNAgent, self).__init__()\n",
    "        self.fc1 = nn.Linear(input_dim, 64)\n",
    "        self.relu = nn.ReLU()\n",
    "        self.fc2 = nn.Linear(64, 64)\n",
    "        self.fc3 = nn.Linear(64, output_dim)\n",
    "\n",
    "    def forward(self, x):\n",
    "        x = self.relu(self.fc1(x))\n",
    "        x = self.relu(self.fc2(x))\n",
    "        return self.fc3(x)\n",
    "\n",
    "agent = DQNAgent(input_dim, output_dim)\n",
    "optimizer = optim.Adam(agent.parameters(), lr=0.001)\n",
    "criterion = nn.MSELoss()\n",
    "\n",
    "replay_buffer = deque(maxlen=10000)\n",
    "batch_size = 64\n",
    "gamma = 0.99\n",
    "epsilon = 1.0\n",
    "epsilon_decay = 0.995\n",
    "epsilon_min = 0.1\n",
    "episodes = 50\n",
    "\n",
    "# For final alarm detection\n",
    "correct_ddos_detections = 0\n",
    "total_ddos_attacks = 0\n",
    "\n",
    "for ep in range(episodes):\n",
    "    state = env.reset()\n",
    "    done = False\n",
    "\n",
    "    while not done:\n",
    "        if random.random() < epsilon:\n",
    "            action = env.action_space.sample()\n",
    "        else:\n",
    "            with torch.no_grad():\n",
    "                state_tensor = torch.FloatTensor(state).unsqueeze(0) # Add batch dimension\n",
    "                q_values = agent(state_tensor)\n",
    "                action = q_values.argmax().item()\n",
    "\n",
    "        next_state, reward, done, info = env.step(action)\n",
    "\n",
    "        # Store experience\n",
    "        replay_buffer.append((state, action, reward, next_state, done))\n",
    "        state = next_state\n",
    "\n",
    "        # Count DDoS logic only in last episode\n",
    "        if ep == episodes - 1 and info['label'] == 1:\n",
    "            total_ddos_attacks += 1\n",
    "            if info['action'] == 1:\n",
    "                correct_ddos_detections += 1\n",
    "\n",
    "        # Train agent\n",
    "        if len(replay_buffer) >= batch_size:\n",
    "            batch = random.sample(replay_buffer, batch_size)\n",
    "            states, actions, rewards, next_states, dones = zip(*batch)\n",
    "\n",
    "            states = np.array(states)  # Convert list of numpy arrays to a single numpy array\n",
    "            next_states = np.array(next_states) # Convert list of numpy arrays to a single numpy array\n",
    "\n",
    "            states = torch.FloatTensor(states)\n",
    "            actions = torch.LongTensor(list(actions)).unsqueeze(1)\n",
    "            rewards = torch.FloatTensor(list(rewards)).unsqueeze(1)\n",
    "            next_states = torch.FloatTensor(next_states)\n",
    "            dones = torch.FloatTensor(list(dones)).unsqueeze(1)\n",
    "\n",
    "            q_values = agent(states).gather(1, actions)\n",
    "            with torch.no_grad():\n",
    "                next_q_values = agent(next_states).max(1)[0].unsqueeze(1)\n",
    "                target_q_values = rewards + gamma * next_q_values * (1 - dones)\n",
    "\n",
    "            loss = criterion(q_values, target_q_values)\n",
    "            optimizer.zero_grad()\n",
    "            loss.backward()\n",
    "            optimizer.step()\n",
    "\n",
    "    epsilon = max(epsilon * epsilon_decay, epsilon_min)\n",
    "\n",
    "# Final detection logic\n",
    "if total_ddos_attacks > 0 and (correct_ddos_detections / total_ddos_attacks) >= 0.4:\n",
    "    print(\"🚨 FINAL OUTPUT: DDoS Attack Detected (Correct detections: {:.2f}%)\".format(\n",
    "        100 * correct_ddos_detections / total_ddos_attacks))\n",
    "else:\n",
    "    print(\"✅ FINAL OUTPUT: No DDoS Detected (Correct detections: {:.2f}%)\".format(\n",
    "        100 * correct_ddos_detections / total_ddos_attacks if total_ddos_attacks else 0))"
   ]
  },
  {
   "cell_type": "code",
   "execution_count": 24,
   "id": "b17MHo5s1vZQ",
   "metadata": {
    "id": "b17MHo5s1vZQ"
   },
   "outputs": [],
   "source": [
    "import os\n",
    "\n",
    "# Create results directory if it doesn't exist\n",
    "os.makedirs(\"results\", exist_ok=True)"
   ]
  },
  {
   "cell_type": "code",
   "execution_count": 25,
   "id": "XEV0qPgc467s",
   "metadata": {
    "colab": {
     "base_uri": "https://localhost:8080/",
     "height": 407
    },
    "id": "XEV0qPgc467s",
    "outputId": "803b7472-bf2e-443c-89fb-d30753d9b8c0"
   },
   "outputs": [
    {
     "data": {
      "image/png": "[encoded data removed]",
      "text/plain": [
       "<Figure size 600x400 with 1 Axes>"
      ]
     },
     "metadata": {},
     "output_type": "display_data"
    }
   ],
   "source": [
    "# Epsilon Decay over Episodes\n",
    "epsilon_values = [1.0 * (epsilon_decay ** i) if (1.0 * (epsilon_decay ** i)) > epsilon_min else epsilon_min for i in range(episodes)]\n",
    "\n",
    "import matplotlib.pyplot as plt\n",
    "\n",
    "plt.figure(figsize=(6, 4))\n",
    "plt.plot(range(episodes), epsilon_values, marker='o')\n",
    "plt.title(\"Epsilon Decay Over Episodes\")\n",
    "plt.xlabel(\"Episode\")\n",
    "plt.ylabel(\"Epsilon\")\n",
    "plt.grid(True)\n",
    "plt.tight_layout()\n",
    "plt.show()\n",
    "plt.savefig(\"results/epsilon_decay.png\")\n",
    "plt.close()"
   ]
  },
  {
   "cell_type": "code",
   "execution_count": 26,
   "id": "oAlaRPp55Inr",
   "metadata": {
    "colab": {
     "base_uri": "https://localhost:8080/",
     "height": 258
    },
    "id": "oAlaRPp55Inr",
    "outputId": "f7db7cbe-4bf3-4877-9a81-a54647f7b31d"
   },
   "outputs": [
    {
     "data": {
      "image/png": "[encoded data removed]",
      "text/plain": [
       "<Figure size 500x500 with 1 Axes>"
      ]
     },
     "metadata": {},
     "output_type": "display_data"
    }
   ],
   "source": [
    "# Detection Summary Pie Chart\n",
    "labels = ['Correct DDoS Detections', 'Missed DDoS Attacks']\n",
    "sizes = [correct_ddos_detections, total_ddos_attacks - correct_ddos_detections]\n",
    "colors = ['red', 'lightgrey']\n",
    "\n",
    "plt.figure(figsize=(5,5))\n",
    "plt.pie(sizes, labels=labels, colors=colors, autopct='%1.1f%%', startangle=90)\n",
    "plt.title(\"DDoS Detection Accuracy\")\n",
    "plt.tight_layout()\n",
    "plt.show()\n",
    "plt.savefig(\"results/ddos_detection_pie.png\")\n",
    "plt.close()\n"
   ]
  },
  {
   "cell_type": "code",
   "execution_count": 27,
   "id": "7xEeowP65Yv6",
   "metadata": {
    "colab": {
     "base_uri": "https://localhost:8080/",
     "height": 407
    },
    "id": "7xEeowP65Yv6",
    "outputId": "912344e8-8b86-4c3b-fb98-144842dde0d0"
   },
   "outputs": [
    {
     "data": {
      "image/png": "[encoded data removed]",
      "text/plain": [
       "<Figure size 600x400 with 1 Axes>"
      ]
     },
     "metadata": {},
     "output_type": "display_data"
    }
   ],
   "source": [
    "# Bar Chart – Total vs Correct Detections\n",
    "plt.figure(figsize=(6,4))\n",
    "plt.bar(['Total DDoS Attacks', 'Correctly Detected'], [total_ddos_attacks, correct_ddos_detections], color=['gray', 'red'])\n",
    "plt.title(\"DDoS Detection Count\")\n",
    "plt.ylabel(\"Count\")\n",
    "plt.tight_layout()\n",
    "plt.show()\n",
    "plt.savefig(\"results/ddos_detection_bar.png\")\n",
    "plt.close()"
   ]
  },
  {
   "cell_type": "code",
   "execution_count": null,
   "id": "36f98529-2515-470e-a4d2-790436849400",
   "metadata": {},
   "outputs": [],
   "source": []
  },
  {
   "cell_type": "code",
   "execution_count": null,
   "id": "a6bedebb-8f0d-4d2c-b72d-67beb05cd89f",
   "metadata": {},
   "outputs": [],
   "source": []
  }
 ],
 "metadata": {
  "colab": {
   "provenance": []
  },
  "kernelspec": {
   "display_name": "Python 3 (ipykernel)",
   "language": "python",
   "name": "python3"
  },
  "language_info": {
   "codemirror_mode": {
    "name": "ipython",
    "version": 3
   },
   "file_extension": ".py",
   "mimetype": "text/x-python",
   "name": "python",
   "nbconvert_exporter": "python",
   "pygments_lexer": "ipython3",
   "version": "3.12.4"
  }
 },
 "nbformat": 4,
 "nbformat_minor": 5
}
